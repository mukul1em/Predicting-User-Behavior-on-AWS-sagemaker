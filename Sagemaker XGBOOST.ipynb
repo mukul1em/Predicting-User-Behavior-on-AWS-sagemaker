{
 "cells": [
  {
   "cell_type": "code",
   "execution_count": 14,
   "id": "22965830",
   "metadata": {},
   "outputs": [
    {
     "name": "stderr",
     "output_type": "stream",
     "text": [
      "The method get_image_uri has been renamed in sagemaker>=2.\n",
      "See: https://sagemaker.readthedocs.io/en/stable/v2.html for details.\n"
     ]
    }
   ],
   "source": [
    "import sagemaker\n",
    "import boto3\n",
    "from sagemaker import get_execution_role\n",
    "sess = sagemaker.Session()\n",
    "role = get_execution_role()\n",
    "container = sagemaker.amazon.amazon_estimator.get_image_uri('us-east-1', \n",
    "                                                            'xgboost', \n",
    "                                                            'latest')"
   ]
  },
  {
   "cell_type": "code",
   "execution_count": 17,
   "id": "4e89f89a",
   "metadata": {},
   "outputs": [],
   "source": [
    "s3_train_data = \\\n",
    "    's3://bucket-mukul/data/'\n",
    "s3_output_location = \\\n",
    "    's3://bucket-mukul/output/xgboost/'"
   ]
  },
  {
   "cell_type": "code",
   "execution_count": 18,
   "id": "bf3df9d5",
   "metadata": {},
   "outputs": [
    {
     "name": "stderr",
     "output_type": "stream",
     "text": [
      "train_instance_count has been renamed in sagemaker>=2.\n",
      "See: https://sagemaker.readthedocs.io/en/stable/v2.html for details.\n",
      "train_instance_type has been renamed in sagemaker>=2.\n",
      "See: https://sagemaker.readthedocs.io/en/stable/v2.html for details.\n",
      "train_max_run has been renamed in sagemaker>=2.\n",
      "See: https://sagemaker.readthedocs.io/en/stable/v2.html for details.\n",
      "train_volume_size has been renamed in sagemaker>=2.\n",
      "See: https://sagemaker.readthedocs.io/en/stable/v2.html for details.\n"
     ]
    }
   ],
   "source": [
    "sagemaker_model = sagemaker.estimator.Estimator(container,\n",
    "    role,\n",
    "    train_instance_count=1,\n",
    "    train_instance_type='ml.c4.4xlarge',\n",
    "    train_volume_size=30,\n",
    "    train_max_run=360000,\n",
    "    input_mode='File',\n",
    "    output_path=s3_output_location,\n",
    "    sagemaker_session=sess)"
   ]
  },
  {
   "cell_type": "code",
   "execution_count": 19,
   "id": "ca50179d",
   "metadata": {},
   "outputs": [],
   "source": [
    "sagemaker_model.set_hyperparameters(objective='binary:logistic',\n",
    "    max_depth=5,\n",
    "    eta=0.2,\n",
    "    gamma=4,\n",
    "    min_child_weight=6,\n",
    "    subsample=0.7,\n",
    "    silent=0,\n",
    "    num_round=50)"
   ]
  },
  {
   "cell_type": "code",
   "execution_count": 20,
   "id": "4c31d5d7",
   "metadata": {},
   "outputs": [
    {
     "name": "stderr",
     "output_type": "stream",
     "text": [
      "The class sagemaker.session.s3_input has been renamed in sagemaker>=2.\n",
      "See: https://sagemaker.readthedocs.io/en/stable/v2.html for details.\n",
      "The class sagemaker.session.s3_input has been renamed in sagemaker>=2.\n",
      "See: https://sagemaker.readthedocs.io/en/stable/v2.html for details.\n"
     ]
    },
    {
     "name": "stdout",
     "output_type": "stream",
     "text": [
      "2022-01-16 22:36:37 Starting - Starting the training job...\n",
      "2022-01-16 22:37:01 Starting - Launching requested ML instancesProfilerReport-1642372597: InProgress\n",
      "......\n",
      "2022-01-16 22:38:03 Starting - Preparing the instances for training.........\n",
      "2022-01-16 22:39:23 Downloading - Downloading input data......\n",
      "2022-01-16 22:40:36 Training - Downloading the training image..\u001b[34mArguments: train\u001b[0m\n",
      "\u001b[34m[2022-01-16:22:40:52:INFO] Running standalone xgboost training.\u001b[0m\n",
      "\u001b[34m[2022-01-16:22:40:52:INFO] File size need to be processed in the node: 7359.36mb. Available memory size in the node: 22187.84mb\u001b[0m\n",
      "\u001b[34m[2022-01-16:22:40:52:INFO] Determined delimiter of CSV input is ','\u001b[0m\n",
      "\u001b[34m[22:40:52] S3DistributionType set as FullyReplicated\u001b[0m\n",
      "\n",
      "2022-01-16 22:41:02 Training - Training image download completed. Training in progress.\u001b[34m[22:41:27] 9598049x100 matrix with 959804900 entries loaded from /opt/ml/input/data/train?format=csv&label_column=0&delimiter=,\u001b[0m\n",
      "\u001b[34m[2022-01-16:22:41:27:INFO] Determined delimiter of CSV input is ','\u001b[0m\n",
      "\u001b[34m[22:41:27] S3DistributionType set as FullyReplicated\u001b[0m\n",
      "\u001b[34m[22:42:02] 9598049x100 matrix with 959804900 entries loaded from /opt/ml/input/data/validation?format=csv&label_column=0&delimiter=,\u001b[0m\n",
      "\u001b[34m[22:42:02] Tree method is automatically selected to be 'approx' for faster speed. to use old behavior(exact greedy algorithm on single machine), set tree_method to 'exact'\u001b[0m\n",
      "\u001b[34m[22:42:21] src/tree/updater_prune.cc:74: tree pruning end, 1 roots, 10 extra nodes, 0 pruned nodes, max_depth=5\u001b[0m\n",
      "\u001b[34m[0]#011train-error:0.171173#011validation-error:0.171173\u001b[0m\n",
      "\u001b[34m[22:42:26] src/tree/updater_prune.cc:74: tree pruning end, 1 roots, 10 extra nodes, 0 pruned nodes, max_depth=5\u001b[0m\n",
      "\u001b[34m[1]#011train-error:0.172448#011validation-error:0.172448\u001b[0m\n",
      "\u001b[34m[22:42:32] src/tree/updater_prune.cc:74: tree pruning end, 1 roots, 10 extra nodes, 0 pruned nodes, max_depth=5\u001b[0m\n",
      "\u001b[34m[2]#011train-error:0.171173#011validation-error:0.171173\u001b[0m\n",
      "\u001b[34m[22:42:37] src/tree/updater_prune.cc:74: tree pruning end, 1 roots, 10 extra nodes, 0 pruned nodes, max_depth=5\u001b[0m\n",
      "\u001b[34m[3]#011train-error:0.172448#011validation-error:0.172448\u001b[0m\n",
      "\u001b[34m[22:42:43] src/tree/updater_prune.cc:74: tree pruning end, 1 roots, 10 extra nodes, 0 pruned nodes, max_depth=5\u001b[0m\n",
      "\u001b[34m[4]#011train-error:0.171173#011validation-error:0.171173\u001b[0m\n",
      "\u001b[34m[22:42:48] src/tree/updater_prune.cc:74: tree pruning end, 1 roots, 10 extra nodes, 0 pruned nodes, max_depth=5\u001b[0m\n",
      "\u001b[34m[5]#011train-error:0.174078#011validation-error:0.174078\u001b[0m\n",
      "\u001b[34m[22:42:54] src/tree/updater_prune.cc:74: tree pruning end, 1 roots, 10 extra nodes, 0 pruned nodes, max_depth=5\u001b[0m\n",
      "\u001b[34m[6]#011train-error:0.171173#011validation-error:0.171173\u001b[0m\n",
      "\u001b[34m[22:42:59] src/tree/updater_prune.cc:74: tree pruning end, 1 roots, 10 extra nodes, 0 pruned nodes, max_depth=5\u001b[0m\n",
      "\u001b[34m[7]#011train-error:0.172448#011validation-error:0.172448\u001b[0m\n",
      "\u001b[34m[22:43:05] src/tree/updater_prune.cc:74: tree pruning end, 1 roots, 10 extra nodes, 0 pruned nodes, max_depth=5\u001b[0m\n",
      "\u001b[34m[8]#011train-error:0.172448#011validation-error:0.172448\u001b[0m\n",
      "\u001b[34m[22:43:10] src/tree/updater_prune.cc:74: tree pruning end, 1 roots, 10 extra nodes, 0 pruned nodes, max_depth=5\u001b[0m\n",
      "\u001b[34m[9]#011train-error:0.172448#011validation-error:0.172448\u001b[0m\n",
      "\u001b[34m[22:43:16] src/tree/updater_prune.cc:74: tree pruning end, 1 roots, 10 extra nodes, 0 pruned nodes, max_depth=5\u001b[0m\n",
      "\u001b[34m[10]#011train-error:0.172448#011validation-error:0.172448\u001b[0m\n",
      "\u001b[34m[22:43:21] src/tree/updater_prune.cc:74: tree pruning end, 1 roots, 10 extra nodes, 0 pruned nodes, max_depth=5\u001b[0m\n",
      "\u001b[34m[11]#011train-error:0.172448#011validation-error:0.172448\u001b[0m\n",
      "\u001b[34m[22:43:27] src/tree/updater_prune.cc:74: tree pruning end, 1 roots, 10 extra nodes, 0 pruned nodes, max_depth=5\u001b[0m\n",
      "\u001b[34m[12]#011train-error:0.172448#011validation-error:0.172448\u001b[0m\n",
      "\u001b[34m[22:43:32] src/tree/updater_prune.cc:74: tree pruning end, 1 roots, 10 extra nodes, 0 pruned nodes, max_depth=5\u001b[0m\n",
      "\u001b[34m[13]#011train-error:0.172448#011validation-error:0.172448\u001b[0m\n",
      "\u001b[34m[22:43:38] src/tree/updater_prune.cc:74: tree pruning end, 1 roots, 10 extra nodes, 0 pruned nodes, max_depth=5\u001b[0m\n",
      "\u001b[34m[14]#011train-error:0.172448#011validation-error:0.172448\u001b[0m\n",
      "\u001b[34m[22:43:43] src/tree/updater_prune.cc:74: tree pruning end, 1 roots, 10 extra nodes, 0 pruned nodes, max_depth=5\u001b[0m\n",
      "\u001b[34m[15]#011train-error:0.171173#011validation-error:0.171173\u001b[0m\n",
      "\u001b[34m[22:43:49] src/tree/updater_prune.cc:74: tree pruning end, 1 roots, 10 extra nodes, 0 pruned nodes, max_depth=5\u001b[0m\n",
      "\u001b[34m[16]#011train-error:0.172448#011validation-error:0.172448\u001b[0m\n",
      "\u001b[34m[22:43:54] src/tree/updater_prune.cc:74: tree pruning end, 1 roots, 10 extra nodes, 0 pruned nodes, max_depth=5\u001b[0m\n",
      "\u001b[34m[17]#011train-error:0.172448#011validation-error:0.172448\u001b[0m\n",
      "\u001b[34m[22:44:00] src/tree/updater_prune.cc:74: tree pruning end, 1 roots, 10 extra nodes, 0 pruned nodes, max_depth=5\u001b[0m\n",
      "\u001b[34m[18]#011train-error:0.172448#011validation-error:0.172448\u001b[0m\n",
      "\u001b[34m[22:44:06] src/tree/updater_prune.cc:74: tree pruning end, 1 roots, 10 extra nodes, 0 pruned nodes, max_depth=5\u001b[0m\n",
      "\u001b[34m[19]#011train-error:0.172448#011validation-error:0.172448\u001b[0m\n",
      "\u001b[34m[22:44:11] src/tree/updater_prune.cc:74: tree pruning end, 1 roots, 10 extra nodes, 0 pruned nodes, max_depth=5\u001b[0m\n",
      "\u001b[34m[20]#011train-error:0.172448#011validation-error:0.172448\u001b[0m\n",
      "\u001b[34m[22:44:17] src/tree/updater_prune.cc:74: tree pruning end, 1 roots, 10 extra nodes, 0 pruned nodes, max_depth=5\u001b[0m\n",
      "\u001b[34m[21]#011train-error:0.172448#011validation-error:0.172448\u001b[0m\n",
      "\u001b[34m[22:44:22] src/tree/updater_prune.cc:74: tree pruning end, 1 roots, 10 extra nodes, 0 pruned nodes, max_depth=5\u001b[0m\n",
      "\u001b[34m[22]#011train-error:0.172448#011validation-error:0.172448\u001b[0m\n",
      "\u001b[34m[22:44:28] src/tree/updater_prune.cc:74: tree pruning end, 1 roots, 10 extra nodes, 0 pruned nodes, max_depth=5\u001b[0m\n",
      "\u001b[34m[23]#011train-error:0.171173#011validation-error:0.171173\u001b[0m\n",
      "\u001b[34m[22:44:33] src/tree/updater_prune.cc:74: tree pruning end, 1 roots, 10 extra nodes, 0 pruned nodes, max_depth=5\u001b[0m\n",
      "\u001b[34m[24]#011train-error:0.171173#011validation-error:0.171173\u001b[0m\n",
      "\u001b[34m[22:44:39] src/tree/updater_prune.cc:74: tree pruning end, 1 roots, 10 extra nodes, 0 pruned nodes, max_depth=5\u001b[0m\n",
      "\u001b[34m[25]#011train-error:0.171173#011validation-error:0.171173\u001b[0m\n",
      "\u001b[34m[22:44:44] src/tree/updater_prune.cc:74: tree pruning end, 1 roots, 10 extra nodes, 0 pruned nodes, max_depth=5\u001b[0m\n",
      "\u001b[34m[26]#011train-error:0.171173#011validation-error:0.171173\u001b[0m\n",
      "\u001b[34m[22:44:49] src/tree/updater_prune.cc:74: tree pruning end, 1 roots, 10 extra nodes, 0 pruned nodes, max_depth=5\u001b[0m\n",
      "\u001b[34m[27]#011train-error:0.171173#011validation-error:0.171173\u001b[0m\n",
      "\u001b[34m[22:44:55] src/tree/updater_prune.cc:74: tree pruning end, 1 roots, 10 extra nodes, 0 pruned nodes, max_depth=5\u001b[0m\n",
      "\u001b[34m[28]#011train-error:0.171173#011validation-error:0.171173\u001b[0m\n",
      "\u001b[34m[22:45:00] src/tree/updater_prune.cc:74: tree pruning end, 1 roots, 10 extra nodes, 0 pruned nodes, max_depth=5\u001b[0m\n",
      "\u001b[34m[29]#011train-error:0.171173#011validation-error:0.171173\u001b[0m\n",
      "\u001b[34m[22:45:06] src/tree/updater_prune.cc:74: tree pruning end, 1 roots, 10 extra nodes, 0 pruned nodes, max_depth=5\u001b[0m\n",
      "\u001b[34m[30]#011train-error:0.17041#011validation-error:0.17041\u001b[0m\n",
      "\u001b[34m[22:45:12] src/tree/updater_prune.cc:74: tree pruning end, 1 roots, 10 extra nodes, 0 pruned nodes, max_depth=5\u001b[0m\n",
      "\u001b[34m[31]#011train-error:0.17041#011validation-error:0.17041\u001b[0m\n",
      "\u001b[34m[22:45:17] src/tree/updater_prune.cc:74: tree pruning end, 1 roots, 10 extra nodes, 0 pruned nodes, max_depth=5\u001b[0m\n",
      "\u001b[34m[32]#011train-error:0.17041#011validation-error:0.17041\u001b[0m\n",
      "\u001b[34m[22:45:23] src/tree/updater_prune.cc:74: tree pruning end, 1 roots, 10 extra nodes, 0 pruned nodes, max_depth=5\u001b[0m\n",
      "\u001b[34m[33]#011train-error:0.17041#011validation-error:0.17041\u001b[0m\n",
      "\u001b[34m[22:45:28] src/tree/updater_prune.cc:74: tree pruning end, 1 roots, 10 extra nodes, 0 pruned nodes, max_depth=5\u001b[0m\n",
      "\u001b[34m[34]#011train-error:0.17041#011validation-error:0.17041\u001b[0m\n",
      "\u001b[34m[22:45:34] src/tree/updater_prune.cc:74: tree pruning end, 1 roots, 10 extra nodes, 0 pruned nodes, max_depth=5\u001b[0m\n",
      "\u001b[34m[35]#011train-error:0.17041#011validation-error:0.17041\u001b[0m\n",
      "\u001b[34m[22:45:39] src/tree/updater_prune.cc:74: tree pruning end, 1 roots, 10 extra nodes, 0 pruned nodes, max_depth=5\u001b[0m\n",
      "\u001b[34m[36]#011train-error:0.17041#011validation-error:0.17041\u001b[0m\n",
      "\u001b[34m[22:45:45] src/tree/updater_prune.cc:74: tree pruning end, 1 roots, 10 extra nodes, 0 pruned nodes, max_depth=5\u001b[0m\n",
      "\u001b[34m[37]#011train-error:0.17041#011validation-error:0.17041\u001b[0m\n",
      "\u001b[34m[22:45:50] src/tree/updater_prune.cc:74: tree pruning end, 1 roots, 10 extra nodes, 0 pruned nodes, max_depth=5\u001b[0m\n",
      "\u001b[34m[38]#011train-error:0.17041#011validation-error:0.17041\u001b[0m\n",
      "\u001b[34m[22:45:56] src/tree/updater_prune.cc:74: tree pruning end, 1 roots, 10 extra nodes, 0 pruned nodes, max_depth=5\u001b[0m\n",
      "\u001b[34m[39]#011train-error:0.17041#011validation-error:0.17041\u001b[0m\n",
      "\u001b[34m[22:46:01] src/tree/updater_prune.cc:74: tree pruning end, 1 roots, 10 extra nodes, 0 pruned nodes, max_depth=5\u001b[0m\n",
      "\u001b[34m[40]#011train-error:0.17041#011validation-error:0.17041\u001b[0m\n",
      "\u001b[34m[22:46:07] src/tree/updater_prune.cc:74: tree pruning end, 1 roots, 10 extra nodes, 0 pruned nodes, max_depth=5\u001b[0m\n",
      "\u001b[34m[41]#011train-error:0.17041#011validation-error:0.17041\u001b[0m\n",
      "\u001b[34m[22:46:13] src/tree/updater_prune.cc:74: tree pruning end, 1 roots, 10 extra nodes, 0 pruned nodes, max_depth=5\u001b[0m\n",
      "\u001b[34m[42]#011train-error:0.17041#011validation-error:0.17041\u001b[0m\n",
      "\u001b[34m[22:46:18] src/tree/updater_prune.cc:74: tree pruning end, 1 roots, 10 extra nodes, 0 pruned nodes, max_depth=5\u001b[0m\n",
      "\u001b[34m[43]#011train-error:0.17041#011validation-error:0.17041\u001b[0m\n",
      "\u001b[34m[22:46:24] src/tree/updater_prune.cc:74: tree pruning end, 1 roots, 10 extra nodes, 0 pruned nodes, max_depth=5\u001b[0m\n",
      "\u001b[34m[44]#011train-error:0.17041#011validation-error:0.17041\u001b[0m\n",
      "\u001b[34m[22:46:29] src/tree/updater_prune.cc:74: tree pruning end, 1 roots, 10 extra nodes, 0 pruned nodes, max_depth=5\u001b[0m\n",
      "\u001b[34m[45]#011train-error:0.17041#011validation-error:0.17041\u001b[0m\n",
      "\u001b[34m[22:46:35] src/tree/updater_prune.cc:74: tree pruning end, 1 roots, 10 extra nodes, 0 pruned nodes, max_depth=5\u001b[0m\n",
      "\u001b[34m[46]#011train-error:0.17041#011validation-error:0.17041\u001b[0m\n",
      "\u001b[34m[22:46:40] src/tree/updater_prune.cc:74: tree pruning end, 1 roots, 10 extra nodes, 0 pruned nodes, max_depth=5\u001b[0m\n",
      "\u001b[34m[47]#011train-error:0.169504#011validation-error:0.169504\u001b[0m\n",
      "\u001b[34m[22:46:46] src/tree/updater_prune.cc:74: tree pruning end, 1 roots, 10 extra nodes, 0 pruned nodes, max_depth=5\u001b[0m\n",
      "\u001b[34m[48]#011train-error:0.169504#011validation-error:0.169504\u001b[0m\n",
      "\u001b[34m[22:46:51] src/tree/updater_prune.cc:74: tree pruning end, 1 roots, 10 extra nodes, 0 pruned nodes, max_depth=5\u001b[0m\n",
      "\u001b[34m[49]#011train-error:0.169504#011validation-error:0.169504\u001b[0m\n",
      "\n",
      "2022-01-16 22:47:24 Uploading - Uploading generated training model\n",
      "2022-01-16 22:47:24 Completed - Training job completed\n",
      "ProfilerReport-1642372597: NoIssuesFound\n",
      "Training seconds: 461\n",
      "Billable seconds: 461\n"
     ]
    }
   ],
   "source": [
    "train_data = sagemaker.session.s3_input(s3_train_data, \n",
    "    distribution='FullyReplicated',\n",
    "    content_type='text/csv', \n",
    "    s3_data_type='S3Prefix')\n",
    "\n",
    "validation_data = sagemaker.session.s3_input(s3_train_data, \n",
    "    distribution='FullyReplicated',\n",
    "    content_type='text/csv', \n",
    "    s3_data_type='S3Prefix')\n",
    "\n",
    "data_channels = {'train': train_data, \n",
    "                 'validation': validation_data}\n",
    "\n",
    "sagemaker_model.fit(inputs=data_channels, \n",
    "                    logs=True)"
   ]
  },
  {
   "cell_type": "markdown",
   "id": "868d3b85",
   "metadata": {},
   "source": [
    "# Applying and evaluating the model"
   ]
  },
  {
   "cell_type": "code",
   "execution_count": 24,
   "id": "807eb7c0",
   "metadata": {},
   "outputs": [],
   "source": [
    "# transformer = sagemaker_model.transformer(instance_count=1, \n",
    "#                                           instance_type='ml.m4.2xlarge',\n",
    "#                                           output_path=s3_output_location)\n",
    "# transformer.transform(s3_train_data, \n",
    "#                       content_type='text/csv', \n",
    "#                       split_type='Line')\n",
    "# transformer.wait()"
   ]
  },
  {
   "cell_type": "code",
   "execution_count": null,
   "id": "c234df9c",
   "metadata": {},
   "outputs": [],
   "source": []
  }
 ],
 "metadata": {
  "kernelspec": {
   "display_name": "conda_python3",
   "language": "python",
   "name": "conda_python3"
  },
  "language_info": {
   "codemirror_mode": {
    "name": "ipython",
    "version": 3
   },
   "file_extension": ".py",
   "mimetype": "text/x-python",
   "name": "python",
   "nbconvert_exporter": "python",
   "pygments_lexer": "ipython3",
   "version": "3.6.13"
  }
 },
 "nbformat": 4,
 "nbformat_minor": 5
}
